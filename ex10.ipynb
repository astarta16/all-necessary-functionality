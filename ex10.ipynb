{
 "cells": [
  {
   "cell_type": "code",
   "execution_count": 1,
   "metadata": {},
   "outputs": [
    {
     "ename": "FileNotFoundError",
     "evalue": "[Errno 2] No such file or directory: 'base.txt'",
     "output_type": "error",
     "traceback": [
      "\u001b[0;31m---------------------------------------------------------------------------\u001b[0m",
      "\u001b[0;31mFileNotFoundError\u001b[0m                         Traceback (most recent call last)",
      "Cell \u001b[0;32mIn[1], line 2\u001b[0m\n\u001b[1;32m      1\u001b[0m \u001b[39mimport\u001b[39;00m \u001b[39mjson\u001b[39;00m\n\u001b[0;32m----> 2\u001b[0m file \u001b[39m=\u001b[39m \u001b[39mopen\u001b[39;49m(\u001b[39m\"\u001b[39;49m\u001b[39mbase.txt\u001b[39;49m\u001b[39m\"\u001b[39;49m)\n\u001b[1;32m      3\u001b[0m result \u001b[39m=\u001b[39m {}\n\u001b[1;32m      4\u001b[0m \u001b[39mfor\u001b[39;00m i \u001b[39min\u001b[39;00m file:\n\u001b[1;32m      5\u001b[0m \u001b[39m# delete unnecessary things\u001b[39;00m\n",
      "File \u001b[0;32m~/.local/lib/python3.10/site-packages/IPython/core/interactiveshell.py:282\u001b[0m, in \u001b[0;36m_modified_open\u001b[0;34m(file, *args, **kwargs)\u001b[0m\n\u001b[1;32m    275\u001b[0m \u001b[39mif\u001b[39;00m file \u001b[39min\u001b[39;00m {\u001b[39m0\u001b[39m, \u001b[39m1\u001b[39m, \u001b[39m2\u001b[39m}:\n\u001b[1;32m    276\u001b[0m     \u001b[39mraise\u001b[39;00m \u001b[39mValueError\u001b[39;00m(\n\u001b[1;32m    277\u001b[0m         \u001b[39mf\u001b[39m\u001b[39m\"\u001b[39m\u001b[39mIPython won\u001b[39m\u001b[39m'\u001b[39m\u001b[39mt let you open fd=\u001b[39m\u001b[39m{\u001b[39;00mfile\u001b[39m}\u001b[39;00m\u001b[39m by default \u001b[39m\u001b[39m\"\u001b[39m\n\u001b[1;32m    278\u001b[0m         \u001b[39m\"\u001b[39m\u001b[39mas it is likely to crash IPython. If you know what you are doing, \u001b[39m\u001b[39m\"\u001b[39m\n\u001b[1;32m    279\u001b[0m         \u001b[39m\"\u001b[39m\u001b[39myou can use builtins\u001b[39m\u001b[39m'\u001b[39m\u001b[39m open.\u001b[39m\u001b[39m\"\u001b[39m\n\u001b[1;32m    280\u001b[0m     )\n\u001b[0;32m--> 282\u001b[0m \u001b[39mreturn\u001b[39;00m io_open(file, \u001b[39m*\u001b[39;49margs, \u001b[39m*\u001b[39;49m\u001b[39m*\u001b[39;49mkwargs)\n",
      "\u001b[0;31mFileNotFoundError\u001b[0m: [Errno 2] No such file or directory: 'base.txt'"
     ]
    }
   ],
   "source": [
    "import json\n",
    "file = open(\"base.txt\")\n",
    "result = {}\n",
    "for i in file:\n",
    "# delete unnecessary things\n",
    "    i = i\\\n",
    "            .replace(\" \", \"_\")\\\n",
    "            .replace(\",\",\" \")\\\n",
    "            .replace(\"#\",\" \")\\\n",
    "            .replace('\"', \"\")\\\n",
    "            .replace(\"\\n\", \"\")   \n",
    "    x = i.find(\" \")\n",
    "    result[i[0:x]] = i[x:].split()\n",
    "#  delete line with no team\n",
    "del result[\"Team\"]\n",
    "# convert str to int\n",
    "for i,k in result.items():\n",
    "    lst = []\n",
    "    for a in k:\n",
    "        try:\n",
    "            lst.append(int(a))\n",
    "        except:\n",
    "            if \".\" in a:\n",
    "                a = float(a)\n",
    "            elif a == \"True\":\n",
    "                a = 1\n",
    "            elif a == \"False\":\n",
    "                a = 0\n",
    "            lst.append(a)\n",
    "    result[i] = lst\n",
    "best_team = {}\n",
    "worst_team = {}\n",
    "# find best and worst teams\n",
    "for k, v in result.items():\n",
    "    b = round(v[1]/v[0]*100,2) \n",
    "    best_team[k] = b\n",
    "    if v[2] > v[1] and v[2] > v[3]:\n",
    "        worst_team[k] = v\n",
    "# sort \n",
    "best_team = dict(sorted(best_team.items(),key=lambda item: item[1])[-3:])\n",
    "worst_team = dict(sorted(worst_team.items(),key=lambda item: item[1]))\n",
    "result = {}\n",
    "# save in result\n",
    "result[\"best_team\"] = best_team\n",
    "result[\"worst_team\"] = list(worst_team.keys())\n",
    "# create file\n",
    "with open(\"result.json\", \"w\") as write_file:\n",
    "    json.dump(result, write_file, indent=1)"
   ]
  }
 ],
 "metadata": {
  "kernelspec": {
   "display_name": "Python 3",
   "language": "python",
   "name": "python3"
  },
  "language_info": {
   "codemirror_mode": {
    "name": "ipython",
    "version": 3
   },
   "file_extension": ".py",
   "mimetype": "text/x-python",
   "name": "python",
   "nbconvert_exporter": "python",
   "pygments_lexer": "ipython3",
   "version": "3.10.6"
  },
  "orig_nbformat": 4
 },
 "nbformat": 4,
 "nbformat_minor": 2
}
