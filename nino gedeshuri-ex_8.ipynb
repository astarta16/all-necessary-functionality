{
 "cells": [
  {
   "attachments": {},
   "cell_type": "markdown",
   "metadata": {},
   "source": [
    "### გამოიძახე ფუნქცია fun() კლასებში ისე რომ მემკვიდრეობა არ დაირღვას და ამავდროულად ყველა კლასისთვის ინდივიდუალური return \"კლასის სახელი\" გამოვიდეს \n",
    "\n",
    "თითოეული uppercase კლასს ჰქონდეს შესაბამისი lowercase ფუნქცია, რომელსაც ექნება return \"კლასის სახელი\"\n",
    "```python\n",
    "class A:\n",
    "    def fun(self):\n",
    "        return \"class A\"\n",
    "    \n",
    "class B(A):\n",
    "    def fun(self):\n",
    "        return \"class B\"\n",
    "    \n",
    "    \n",
    "```\n",
    "\n"
   ]
  },
  {
   "attachments": {},
   "cell_type": "markdown",
   "metadata": {},
   "source": [
    "<img src=\"https://drive.google.com/uc?export=view&id=1ZiPYUlcq0AXKOzgj7omIi_VPHJdB5GR-\">"
   ]
  },
  {
   "cell_type": "code",
   "execution_count": 6,
   "metadata": {},
   "outputs": [],
   "source": [
    "#__start__\n",
    "class A:\n",
    "  def fun(self):\n",
    "    return \"class A\"\n",
    "\n",
    "class B(A):\n",
    "  def fun(self):\n",
    "    return \"class B\"\n",
    "\n",
    "class C(A):\n",
    "  def fun(self):\n",
    "    return \"class C\"\n",
    "\n",
    "class D:\n",
    "  def fun(self):\n",
    "    return \"class D\"\n",
    "\n",
    "class E(D):\n",
    "  def fun(self):\n",
    "    return \"class E\"\n",
    "\n",
    "class F(C):\n",
    "  def fun(self):\n",
    "    return \"class F\"\n",
    "\n",
    "#__end__"
   ]
  },
  {
   "attachments": {},
   "cell_type": "markdown",
   "metadata": {},
   "source": [
    "### გამოასწორე კოდში ხარვეზი (კომპოზიცია)\n",
    "\n"
   ]
  },
  {
   "cell_type": "code",
   "execution_count": 5,
   "metadata": {},
   "outputs": [
    {
     "name": "stdout",
     "output_type": "stream",
     "text": [
      "add 11\n",
      "multiply 24\n",
      "substract 5\n",
      "power 512\n",
      "divide 2.6666666666666665\n"
     ]
    }
   ],
   "source": [
    "class M:\n",
    "    def __init__(self, x, y):\n",
    "        self.x = x\n",
    "        self.y = y\n",
    "\n",
    "    def add(self):\n",
    "        return self.x + self.y\n",
    "\n",
    "    def substract(self):\n",
    "        return self.x - self.y\n",
    "\n",
    "class M2:\n",
    "    def __init__(self, x, y):\n",
    "        self.x = x\n",
    "        self.y = y\n",
    "\n",
    "    def multiply(self):\n",
    "        return self.x * self.y\n",
    "\n",
    "    def divide(self):\n",
    "        return self.x / self.y\n",
    "\n",
    "class M3:\n",
    "    def __init__(self, x, y):\n",
    "        self.x = x\n",
    "        self.y = y\n",
    "        self.m1 = M(x,y)\n",
    "        self.m2 = M2(x,y)\n",
    "\n",
    "    def power(self):\n",
    "        return self.x ** self.y\n",
    "\n",
    "    def add(self):\n",
    "        return self.m1.add()\n",
    "\n",
    "    def substract(self):\n",
    "        return self.m1.substract()\n",
    "\n",
    "    def multiply(self):\n",
    "        return self.m2.multiply()\n",
    "\n",
    "    def divide(self):\n",
    "        return self.m2.divide()\n",
    "\n",
    "m1 = M3(8, 3)\n",
    "print (\"add\", m1.add())\n",
    "print (\"multiply\", m1.multiply())\n",
    "print (\"substract\", m1.substract())\n",
    "print (\"power\", m1.power())\n",
    "print (\"divide\", m1.divide())"
   ]
  },
  {
   "attachments": {},
   "cell_type": "markdown",
   "metadata": {},
   "source": [
    "### გამოასწორე კოდში ხარვეზი (აგრეგაცია)\n"
   ]
  },
  {
   "cell_type": "code",
   "execution_count": 6,
   "metadata": {},
   "outputs": [
    {
     "name": "stdout",
     "output_type": "stream",
     "text": [
      "Name:  Bruce\n",
      "Last Name:  Lee\n",
      "Address:  Mestia\n",
      "mind:  4\n"
     ]
    }
   ],
   "source": [
    "# უნდა დაიბეჭდოს \n",
    "'''\n",
    "name: bruce \n",
    "surname: lee \n",
    "address: mestia \n",
    "mind: 4\n",
    "'''\n",
    "\n",
    "\n",
    "class Mind:\n",
    "    def __init__(self, mind):\n",
    "        self.mind = mind\n",
    "        \n",
    "    \n",
    "class Person:\n",
    "    def __init__(self, fname, lname, address, mind):\n",
    "        self.fname = fname\n",
    "        self.lname = lname\n",
    "        self.address = address\n",
    "        self.mind = mind # Aggregation\n",
    "        \n",
    "    def display(self):\n",
    "        print(\"Name: \", self.fname)\n",
    "        print(\"Last Name: \", self.lname)\n",
    "        print(\"Address: \", self.address)\n",
    "        print(\"mind: \", self.mind)    \n",
    "\n",
    "M = Mind(4)\n",
    "p = Person(\"Bruce\", \"Lee\", \"Mestia\", \"4\" )\n",
    "p.display()"
   ]
  }
 ],
 "metadata": {
  "kernelspec": {
   "display_name": "Python 3 (ipykernel)",
   "language": "python",
   "name": "python3"
  },
  "language_info": {
   "codemirror_mode": {
    "name": "ipython",
    "version": 3
   },
   "file_extension": ".py",
   "mimetype": "text/x-python",
   "name": "python",
   "nbconvert_exporter": "python",
   "pygments_lexer": "ipython3",
   "version": "3.10.6"
  },
  "vscode": {
   "interpreter": {
    "hash": "1682e5d06a6d97c1b1cf6bb4ae6cf16223e994936ddb1d53664597d7d46101fa"
   }
  }
 },
 "nbformat": 4,
 "nbformat_minor": 2
}
