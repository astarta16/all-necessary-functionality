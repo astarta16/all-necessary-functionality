{
 "cells": [
  {
   "cell_type": "code",
   "execution_count": null,
   "metadata": {},
   "outputs": [],
   "source": [
    "#__start__\n",
    "def add_numbers(x, y):\n",
    "    sum = x + y\n",
    "    return sum\n",
    "#__end__"
   ]
  },
  {
   "cell_type": "code",
   "execution_count": null,
   "metadata": {},
   "outputs": [],
   "source": [
    "#__start__\n",
    "def increment_number(num):\n",
    "    return num + 1\n",
    "#__end__"
   ]
  },
  {
   "cell_type": "code",
   "execution_count": null,
   "metadata": {},
   "outputs": [],
   "source": [
    "#__start__\n",
    "def convert_to_seconds(num):\n",
    "    seconds = num * 60\n",
    "    return seconds\n",
    "#__end__"
   ]
  },
  {
   "cell_type": "code",
   "execution_count": null,
   "metadata": {},
   "outputs": [],
   "source": [
    "#__start__\n",
    "def cubes(num):\n",
    "    return num ** 3\n",
    "#__end__"
   ]
  },
  {
   "cell_type": "code",
   "execution_count": null,
   "metadata": {},
   "outputs": [],
   "source": [
    "#__start__\n",
    "\n",
    "def dis(price, discount):\n",
    "    discounted_price = price * (1 - discount/100)\n",
    "    return round(discounted_price, 1)\n",
    "#__end__\n"
   ]
  },
  {
   "cell_type": "code",
   "execution_count": null,
   "metadata": {},
   "outputs": [],
   "source": [
    "#__start__\n",
    "def calc_age(age):\n",
    "    return age * 365\n",
    "#__end__"
   ]
  },
  {
   "cell_type": "code",
   "execution_count": null,
   "metadata": {},
   "outputs": [],
   "source": [
    "#__start__\n",
    "def string_int(string):\n",
    "    return int(string)\n",
    "#__end__"
   ]
  },
  {
   "cell_type": "code",
   "execution_count": null,
   "metadata": {},
   "outputs": [],
   "source": [
    "#__start__\n",
    "def find_perimeter(length, width):\n",
    "    return 2 * (length + width)\n",
    "#__end__"
   ]
  },
  {
   "cell_type": "code",
   "execution_count": 3,
   "metadata": {},
   "outputs": [],
   "source": [
    "#__start__\n",
    "def greeting(name):\n",
    "    if name == \"Murtaz\":\n",
    "        return \"Hello, my Love!\"\n",
    "    else:\n",
    "        return f\"Hello, {name}!\"\n",
    "#__end__"
   ]
  },
  {
   "cell_type": "code",
   "execution_count": null,
   "metadata": {},
   "outputs": [],
   "source": [
    "#__start__\n",
    "\n",
    "def stuter(word):\n",
    "    return f\"{word[0:2]}... {word[0:2]}... {word}?\"\n",
    "\n",
    "print(stuter(\"incredible\"))\n",
    "#__end__"
   ]
  }
 ],
 "metadata": {
  "kernelspec": {
   "display_name": "Python 3",
   "language": "python",
   "name": "python3"
  },
  "language_info": {
   "codemirror_mode": {
    "name": "ipython",
    "version": 3
   },
   "file_extension": ".py",
   "mimetype": "text/x-python",
   "name": "python",
   "nbconvert_exporter": "python",
   "pygments_lexer": "ipython3",
   "version": "3.10.6"
  },
  "orig_nbformat": 4
 },
 "nbformat": 4,
 "nbformat_minor": 2
}
